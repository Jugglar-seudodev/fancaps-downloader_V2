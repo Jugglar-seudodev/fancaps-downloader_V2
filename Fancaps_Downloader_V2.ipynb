{
  "nbformat": 4,
  "nbformat_minor": 0,
  "metadata": {
    "colab": {
      "provenance": [],
      "mount_file_id": "1hDTnqufykos-3MNRqfZnBVisZUiCB2Io",
      "authorship_tag": "ABX9TyOuqtW6Rl8QUnVaC6QPx17a",
      "include_colab_link": true
    },
    "kernelspec": {
      "name": "python3",
      "display_name": "Python 3"
    },
    "language_info": {
      "name": "python"
    }
  },
  "cells": [
    {
      "cell_type": "markdown",
      "metadata": {
        "id": "view-in-github",
        "colab_type": "text"
      },
      "source": [
        "<a href=\"https://colab.research.google.com/github/Jugglar-seudodev/fancaps-downloader_V2/blob/main/Fancaps_Downloader_V2.ipynb\" target=\"_parent\"><img src=\"https://colab.research.google.com/assets/colab-badge.svg\" alt=\"Open In Colab\"/></a>"
      ]
    },
    {
      "cell_type": "code",
      "execution_count": null,
      "metadata": {
        "id": "O2UYjJ5L7yuQ",
        "collapsed": true
      },
      "outputs": [],
      "source": [
        "#Step 1\n",
        "#@markdown Step 1: github cloning and library installation.<br>\n",
        "#@markdown Paso 1: clonacion de github e instalacion de librerias.\n",
        "\n",
        "!git clone https://github.com/Jugglar-seudodev/fancaps-downloader_V2.git\n",
        "%cd fancaps-downloader_V2\n",
        "\n",
        "!pip install beautifulsoup4 tqdm\n",
        "\n"
      ]
    },
    {
      "cell_type": "code",
      "source": [
        "#Step 2\n",
        "#@markdown Step 2: Enter the download URL of the series or movie.<br>\n",
        "#@markdown Paso 2: Ingresar la URL de descarga de la serie o pelicula.\n",
        "\n",
        "\n",
        "URL_1 = \"\" # @param {\"type\":\"string\"}\n",
        "#@markdown * URL_1: Must be series url, movie url or episode url. For example:<br>\n",
        "#@markdown * URL_1: Debe ser la URL de la serie, la URL de la película o la URL del episodio. Por ejemplo:\n",
        "\n",
        "#@markdown ** Serie url: https://fancaps.net/anime/showimages.php?33224-Bocchi_the_Rock\n",
        "\n",
        "\n",
        "!python fancaps-downloader.py --output \"Download\" \"{URL_1}\""
      ],
      "metadata": {
        "id": "6vNEfE6r-qjJ"
      },
      "execution_count": null,
      "outputs": []
    },
    {
      "cell_type": "code",
      "source": [
        "#Step 3\n",
        "#@markdown Step 3: Download all files in a zip file.<br>\n",
        "#@markdown Paso 3: Descarga todos los archivos en un archivo zip.\n",
        "\n",
        "from google.colab import files\n",
        "import shutil\n",
        "\n",
        "# Comprimir la carpeta\n",
        "dwld = \"\" # @param {\"type\":\"string\"}\n",
        "name = \"\"# @param {\"type\":\"string\"}\n",
        "shutil.make_archive(name, 'zip', dwld)\n",
        "\n",
        "#@markdown dwld: URL that is generated in the downloads folder in file browsing.<br>\n",
        "#@markdown dwld: URL que se genera en la carpeta descargas en la navegacion de archivos.\n",
        "\n",
        "#@markdown name: Name of the file to be created<br>\n",
        "#@markdown name: Nombre del archivo que se creara\n",
        "\n",
        "# Descargar\n",
        "files.download(f\"{name}.zip\")"
      ],
      "metadata": {
        "colab": {
          "base_uri": "https://localhost:8080/",
          "height": 17
        },
        "id": "5Ixv5-YUUd1x",
        "outputId": "5765df02-2c5b-4469-e15d-75a77ab30dfa"
      },
      "execution_count": null,
      "outputs": [
        {
          "output_type": "display_data",
          "data": {
            "text/plain": [
              "<IPython.core.display.Javascript object>"
            ],
            "application/javascript": [
              "\n",
              "    async function download(id, filename, size) {\n",
              "      if (!google.colab.kernel.accessAllowed) {\n",
              "        return;\n",
              "      }\n",
              "      const div = document.createElement('div');\n",
              "      const label = document.createElement('label');\n",
              "      label.textContent = `Downloading \"${filename}\": `;\n",
              "      div.appendChild(label);\n",
              "      const progress = document.createElement('progress');\n",
              "      progress.max = size;\n",
              "      div.appendChild(progress);\n",
              "      document.body.appendChild(div);\n",
              "\n",
              "      const buffers = [];\n",
              "      let downloaded = 0;\n",
              "\n",
              "      const channel = await google.colab.kernel.comms.open(id);\n",
              "      // Send a message to notify the kernel that we're ready.\n",
              "      channel.send({})\n",
              "\n",
              "      for await (const message of channel.messages) {\n",
              "        // Send a message to notify the kernel that we're ready.\n",
              "        channel.send({})\n",
              "        if (message.buffers) {\n",
              "          for (const buffer of message.buffers) {\n",
              "            buffers.push(buffer);\n",
              "            downloaded += buffer.byteLength;\n",
              "            progress.value = downloaded;\n",
              "          }\n",
              "        }\n",
              "      }\n",
              "      const blob = new Blob(buffers, {type: 'application/binary'});\n",
              "      const a = document.createElement('a');\n",
              "      a.href = window.URL.createObjectURL(blob);\n",
              "      a.download = filename;\n",
              "      div.appendChild(a);\n",
              "      a.click();\n",
              "      div.remove();\n",
              "    }\n",
              "  "
            ]
          },
          "metadata": {}
        },
        {
          "output_type": "display_data",
          "data": {
            "text/plain": [
              "<IPython.core.display.Javascript object>"
            ],
            "application/javascript": [
              "download(\"download_37368311-2003-4bcf-8041-88f06776fc38\", \"fate_apocrypha.zip\", 236246286)"
            ]
          },
          "metadata": {}
        }
      ]
    }
  ]
}